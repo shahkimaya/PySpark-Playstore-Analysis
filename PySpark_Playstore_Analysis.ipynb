{
  "nbformat": 4,
  "nbformat_minor": 0,
  "metadata": {
    "colab": {
      "provenance": [],
      "authorship_tag": "ABX9TyPAMyT8o3P6630+LaMI9lpj",
      "include_colab_link": true
    },
    "kernelspec": {
      "name": "python3",
      "display_name": "Python 3"
    },
    "language_info": {
      "name": "python"
    }
  },
  "cells": [
    {
      "cell_type": "markdown",
      "metadata": {
        "id": "view-in-github",
        "colab_type": "text"
      },
      "source": [
        "<a href=\"https://colab.research.google.com/github/shahkimaya/PySpark-Playstore-Analysis/blob/main/PySpark_Playstore_Analysis.ipynb\" target=\"_parent\"><img src=\"https://colab.research.google.com/assets/colab-badge.svg\" alt=\"Open In Colab\"/></a>"
      ]
    },
    {
      "cell_type": "code",
      "execution_count": null,
      "metadata": {
        "colab": {
          "base_uri": "https://localhost:8080/",
          "height": 584
        },
        "id": "5_NJjcgnhhMu",
        "outputId": "7f9acfa9-6a7c-4a2e-c330-2bb550f9e141"
      },
      "outputs": [
        {
          "output_type": "stream",
          "name": "stdout",
          "text": [
            "\r0% [Working]\r            \rGet:1 https://cloud.r-project.org/bin/linux/ubuntu jammy-cran40/ InRelease [3,626 B]\n",
            "Get:2 https://developer.download.nvidia.com/compute/cuda/repos/ubuntu2204/x86_64  InRelease [1,581 B]\n",
            "Get:3 http://security.ubuntu.com/ubuntu jammy-security InRelease [110 kB]\n",
            "Hit:4 http://archive.ubuntu.com/ubuntu jammy InRelease\n",
            "Get:5 http://archive.ubuntu.com/ubuntu jammy-updates InRelease [119 kB]\n",
            "Get:6 https://developer.download.nvidia.com/compute/cuda/repos/ubuntu2204/x86_64  Packages [830 kB]\n",
            "Hit:7 https://ppa.launchpadcontent.net/c2d4u.team/c2d4u4.0+/ubuntu jammy InRelease\n",
            "Get:8 https://ppa.launchpadcontent.net/deadsnakes/ppa/ubuntu jammy InRelease [18.1 kB]\n",
            "Hit:9 https://ppa.launchpadcontent.net/graphics-drivers/ppa/ubuntu jammy InRelease\n",
            "Get:10 http://archive.ubuntu.com/ubuntu jammy-backports InRelease [109 kB]\n",
            "Hit:11 https://ppa.launchpadcontent.net/ubuntugis/ppa/ubuntu jammy InRelease\n",
            "Get:12 http://security.ubuntu.com/ubuntu jammy-security/universe amd64 Packages [1,082 kB]\n",
            "Get:13 https://ppa.launchpadcontent.net/deadsnakes/ppa/ubuntu jammy/main amd64 Packages [27.8 kB]\n",
            "Get:14 http://archive.ubuntu.com/ubuntu jammy-updates/universe amd64 Packages [1,374 kB]\n",
            "Get:15 http://security.ubuntu.com/ubuntu jammy-security/main amd64 Packages [1,839 kB]\n",
            "Get:16 http://security.ubuntu.com/ubuntu jammy-security/restricted amd64 Packages [2,372 kB]\n",
            "Get:17 http://archive.ubuntu.com/ubuntu jammy-updates/restricted amd64 Packages [2,453 kB]\n",
            "Get:18 http://archive.ubuntu.com/ubuntu jammy-updates/main amd64 Packages [2,115 kB]\n",
            "Fetched 12.5 MB in 2s (6,305 kB/s)\n",
            "Reading package lists... Done\n",
            "sample_data  spark-3.1.1-bin-hadoop3.2\tspark-3.1.1-bin-hadoop3.2.tgz\n"
          ]
        },
        {
          "output_type": "execute_result",
          "data": {
            "text/plain": [
              "<pyspark.sql.session.SparkSession at 0x7cb9cf677a60>"
            ],
            "text/html": [
              "\n",
              "            <div>\n",
              "                <p><b>SparkSession - in-memory</b></p>\n",
              "                \n",
              "        <div>\n",
              "            <p><b>SparkContext</b></p>\n",
              "\n",
              "            <p><a href=\"http://f9e47ae86698:4040\">Spark UI</a></p>\n",
              "\n",
              "            <dl>\n",
              "              <dt>Version</dt>\n",
              "                <dd><code>v3.1.1</code></dd>\n",
              "              <dt>Master</dt>\n",
              "                <dd><code>local[*]</code></dd>\n",
              "              <dt>AppName</dt>\n",
              "                <dd><code>pyspark-shell</code></dd>\n",
              "            </dl>\n",
              "        </div>\n",
              "        \n",
              "            </div>\n",
              "        "
            ]
          },
          "metadata": {},
          "execution_count": 5
        }
      ],
      "source": [
        "!apt-get update # Update apt-get repository.\n",
        "!apt-get install openjdk-8-jdk-headless -qq > /dev/null # Install Java.\n",
        "!wget -q http://archive.apache.org/dist/spark/spark-3.1.1/spark-3.1.1-bin-hadoop3.2.tgz # Download Apache Sparks.\n",
        "!tar xf spark-3.1.1-bin-hadoop3.2.tgz # Unzip the tgz file.\n",
        "!pip install -q findspark # Install findspark. Adds PySpark to the System path during runtime.\n",
        "\n",
        "# Set environment variables\n",
        "import os\n",
        "os.environ[\"JAVA_HOME\"] = \"/usr/lib/jvm/java-8-openjdk-amd64\"\n",
        "os.environ[\"SPARK_HOME\"] = \"/content/spark-3.1.1-bin-hadoop3.2\"\n",
        "\n",
        "!ls\n",
        "\n",
        "# Initialize findspark\n",
        "import findspark\n",
        "findspark.init()\n",
        "\n",
        "# Create a PySpark session\n",
        "from pyspark.sql import SparkSession\n",
        "spark = SparkSession.builder.master(\"local[*]\").getOrCreate()\n",
        "spark"
      ]
    },
    {
      "cell_type": "code",
      "source": [
        "import pyspark\n",
        "from pyspark.sql import SparkSession\n",
        "from pyspark.sql.types import StructField, StructType, StringType, IntegerType\n",
        "from pyspark.sql.functions import *"
      ],
      "metadata": {
        "id": "QfOtu4kPholX"
      },
      "execution_count": null,
      "outputs": []
    },
    {
      "cell_type": "code",
      "source": [
        "df=spark.read.load('/content/sample_data/googleplaystore.csv', format='csv', sep = ',', header = 'true', escape='\"', inferschema='true')"
      ],
      "metadata": {
        "id": "tK732JaBhlCl"
      },
      "execution_count": 9,
      "outputs": []
    },
    {
      "cell_type": "code",
      "source": [
        "df.count()"
      ],
      "metadata": {
        "colab": {
          "base_uri": "https://localhost:8080/"
        },
        "id": "CijUf5OTkww_",
        "outputId": "a8e80398-15ef-4fc2-cb7e-905a799d134f"
      },
      "execution_count": 10,
      "outputs": [
        {
          "output_type": "execute_result",
          "data": {
            "text/plain": [
              "10841"
            ]
          },
          "metadata": {},
          "execution_count": 10
        }
      ]
    },
    {
      "cell_type": "code",
      "source": [
        "df.show(10)"
      ],
      "metadata": {
        "colab": {
          "base_uri": "https://localhost:8080/"
        },
        "id": "nfyBFnNik-fh",
        "outputId": "a0aec58a-2e20-4e5b-9bbe-531ce3432d5d"
      },
      "execution_count": 11,
      "outputs": [
        {
          "output_type": "stream",
          "name": "stdout",
          "text": [
            "+--------------------+--------------+------+-------+----+-----------+----+-----+--------------+--------------------+------------------+------------------+------------+\n",
            "|                 App|      Category|Rating|Reviews|Size|   Installs|Type|Price|Content Rating|              Genres|      Last Updated|       Current Ver| Android Ver|\n",
            "+--------------------+--------------+------+-------+----+-----------+----+-----+--------------+--------------------+------------------+------------------+------------+\n",
            "|Photo Editor & Ca...|ART_AND_DESIGN|   4.1|    159| 19M|    10,000+|Free|    0|      Everyone|        Art & Design|   January 7, 2018|             1.0.0|4.0.3 and up|\n",
            "| Coloring book moana|ART_AND_DESIGN|   3.9|    967| 14M|   500,000+|Free|    0|      Everyone|Art & Design;Pret...|  January 15, 2018|             2.0.0|4.0.3 and up|\n",
            "|U Launcher Lite –...|ART_AND_DESIGN|   4.7|  87510|8.7M| 5,000,000+|Free|    0|      Everyone|        Art & Design|    August 1, 2018|             1.2.4|4.0.3 and up|\n",
            "|Sketch - Draw & P...|ART_AND_DESIGN|   4.5| 215644| 25M|50,000,000+|Free|    0|          Teen|        Art & Design|      June 8, 2018|Varies with device|  4.2 and up|\n",
            "|Pixel Draw - Numb...|ART_AND_DESIGN|   4.3|    967|2.8M|   100,000+|Free|    0|      Everyone|Art & Design;Crea...|     June 20, 2018|               1.1|  4.4 and up|\n",
            "|Paper flowers ins...|ART_AND_DESIGN|   4.4|    167|5.6M|    50,000+|Free|    0|      Everyone|        Art & Design|    March 26, 2017|               1.0|  2.3 and up|\n",
            "|Smoke Effect Phot...|ART_AND_DESIGN|   3.8|    178| 19M|    50,000+|Free|    0|      Everyone|        Art & Design|    April 26, 2018|               1.1|4.0.3 and up|\n",
            "|    Infinite Painter|ART_AND_DESIGN|   4.1|  36815| 29M| 1,000,000+|Free|    0|      Everyone|        Art & Design|     June 14, 2018|          6.1.61.1|  4.2 and up|\n",
            "|Garden Coloring Book|ART_AND_DESIGN|   4.4|  13791| 33M| 1,000,000+|Free|    0|      Everyone|        Art & Design|September 20, 2017|             2.9.2|  3.0 and up|\n",
            "|Kids Paint Free -...|ART_AND_DESIGN|   4.7|    121|3.1M|    10,000+|Free|    0|      Everyone|Art & Design;Crea...|      July 3, 2018|               2.8|4.0.3 and up|\n",
            "+--------------------+--------------+------+-------+----+-----------+----+-----+--------------+--------------------+------------------+------------------+------------+\n",
            "only showing top 10 rows\n",
            "\n"
          ]
        }
      ]
    },
    {
      "cell_type": "code",
      "source": [
        "df.printSchema()"
      ],
      "metadata": {
        "colab": {
          "base_uri": "https://localhost:8080/"
        },
        "id": "dX-s3SojlCEm",
        "outputId": "36dd1613-1095-40f9-e910-f2ca792ac9ef"
      },
      "execution_count": 13,
      "outputs": [
        {
          "output_type": "stream",
          "name": "stdout",
          "text": [
            "root\n",
            " |-- App: string (nullable = true)\n",
            " |-- Category: string (nullable = true)\n",
            " |-- Rating: double (nullable = true)\n",
            " |-- Reviews: string (nullable = true)\n",
            " |-- Size: string (nullable = true)\n",
            " |-- Installs: string (nullable = true)\n",
            " |-- Type: string (nullable = true)\n",
            " |-- Price: string (nullable = true)\n",
            " |-- Content Rating: string (nullable = true)\n",
            " |-- Genres: string (nullable = true)\n",
            " |-- Last Updated: string (nullable = true)\n",
            " |-- Current Ver: string (nullable = true)\n",
            " |-- Android Ver: string (nullable = true)\n",
            "\n"
          ]
        }
      ]
    },
    {
      "cell_type": "code",
      "source": [
        "df=df.drop(\"size\", \"Content Rating\", \"Last Updated\", 'Current Ver', \"Android Ver\")"
      ],
      "metadata": {
        "id": "5_HOnfBnlI0T"
      },
      "execution_count": 16,
      "outputs": []
    },
    {
      "cell_type": "code",
      "source": [
        "df.show(9)"
      ],
      "metadata": {
        "colab": {
          "base_uri": "https://localhost:8080/"
        },
        "id": "LQvPrBMnlIxs",
        "outputId": "7a0673cb-86df-4630-cf86-f756216843df"
      },
      "execution_count": 17,
      "outputs": [
        {
          "output_type": "stream",
          "name": "stdout",
          "text": [
            "+--------------------+--------------+------+-------+-----------+----+-----+--------------------+\n",
            "|                 App|      Category|Rating|Reviews|   Installs|Type|Price|              Genres|\n",
            "+--------------------+--------------+------+-------+-----------+----+-----+--------------------+\n",
            "|Photo Editor & Ca...|ART_AND_DESIGN|   4.1|    159|    10,000+|Free|    0|        Art & Design|\n",
            "| Coloring book moana|ART_AND_DESIGN|   3.9|    967|   500,000+|Free|    0|Art & Design;Pret...|\n",
            "|U Launcher Lite –...|ART_AND_DESIGN|   4.7|  87510| 5,000,000+|Free|    0|        Art & Design|\n",
            "|Sketch - Draw & P...|ART_AND_DESIGN|   4.5| 215644|50,000,000+|Free|    0|        Art & Design|\n",
            "|Pixel Draw - Numb...|ART_AND_DESIGN|   4.3|    967|   100,000+|Free|    0|Art & Design;Crea...|\n",
            "|Paper flowers ins...|ART_AND_DESIGN|   4.4|    167|    50,000+|Free|    0|        Art & Design|\n",
            "|Smoke Effect Phot...|ART_AND_DESIGN|   3.8|    178|    50,000+|Free|    0|        Art & Design|\n",
            "|    Infinite Painter|ART_AND_DESIGN|   4.1|  36815| 1,000,000+|Free|    0|        Art & Design|\n",
            "|Garden Coloring Book|ART_AND_DESIGN|   4.4|  13791| 1,000,000+|Free|    0|        Art & Design|\n",
            "+--------------------+--------------+------+-------+-----------+----+-----+--------------------+\n",
            "only showing top 9 rows\n",
            "\n"
          ]
        }
      ]
    },
    {
      "cell_type": "code",
      "source": [
        "df.printSchema()"
      ],
      "metadata": {
        "colab": {
          "base_uri": "https://localhost:8080/"
        },
        "id": "O-cE5xgBlIuk",
        "outputId": "ad2ee466-95f2-4b5e-b4ef-e115efb22986"
      },
      "execution_count": 18,
      "outputs": [
        {
          "output_type": "stream",
          "name": "stdout",
          "text": [
            "root\n",
            " |-- App: string (nullable = true)\n",
            " |-- Category: string (nullable = true)\n",
            " |-- Rating: double (nullable = true)\n",
            " |-- Reviews: string (nullable = true)\n",
            " |-- Installs: string (nullable = true)\n",
            " |-- Type: string (nullable = true)\n",
            " |-- Price: string (nullable = true)\n",
            " |-- Genres: string (nullable = true)\n",
            "\n"
          ]
        }
      ]
    },
    {
      "cell_type": "code",
      "source": [
        "from pyspark.sql.functions import regexp_replace, col\n",
        "df=df.withColumn(\"Reviews\", col(\"Reviews\").cast(IntegerType()))\\\n",
        ".withColumn(\"Installs\", regexp_replace(col(\"Installs\"),\"[^0-9]\",\"\"))\\\n",
        ".withColumn(\"Installs\", col(\"Installs\").cast(IntegerType()))\\\n",
        ".withColumn(\"Price\", regexp_replace(col(\"Price\"),\"[$]\",\"\"))\\\n",
        ".withColumn(\"Price\", col(\"Price\").cast(IntegerType()))"
      ],
      "metadata": {
        "id": "BM4_5R16lIrv"
      },
      "execution_count": 20,
      "outputs": []
    },
    {
      "cell_type": "code",
      "source": [
        "df.show(5)"
      ],
      "metadata": {
        "colab": {
          "base_uri": "https://localhost:8080/"
        },
        "id": "g-Ya76UtlIpG",
        "outputId": "5054c97c-7a2f-4a37-a65b-92d73dc83128"
      },
      "execution_count": 21,
      "outputs": [
        {
          "output_type": "stream",
          "name": "stdout",
          "text": [
            "+--------------------+--------------+------+-------+--------+----+-----+--------------------+\n",
            "|                 App|      Category|Rating|Reviews|Installs|Type|Price|              Genres|\n",
            "+--------------------+--------------+------+-------+--------+----+-----+--------------------+\n",
            "|Photo Editor & Ca...|ART_AND_DESIGN|   4.1|    159|   10000|Free|    0|        Art & Design|\n",
            "| Coloring book moana|ART_AND_DESIGN|   3.9|    967|  500000|Free|    0|Art & Design;Pret...|\n",
            "|U Launcher Lite –...|ART_AND_DESIGN|   4.7|  87510| 5000000|Free|    0|        Art & Design|\n",
            "|Sketch - Draw & P...|ART_AND_DESIGN|   4.5| 215644|50000000|Free|    0|        Art & Design|\n",
            "|Pixel Draw - Numb...|ART_AND_DESIGN|   4.3|    967|  100000|Free|    0|Art & Design;Crea...|\n",
            "+--------------------+--------------+------+-------+--------+----+-----+--------------------+\n",
            "only showing top 5 rows\n",
            "\n"
          ]
        }
      ]
    },
    {
      "cell_type": "code",
      "source": [
        "df.printSchema()"
      ],
      "metadata": {
        "colab": {
          "base_uri": "https://localhost:8080/"
        },
        "id": "ez5KOR9nlImP",
        "outputId": "5c49b50a-f964-4cbf-e7bb-4253412e5d73"
      },
      "execution_count": 22,
      "outputs": [
        {
          "output_type": "stream",
          "name": "stdout",
          "text": [
            "root\n",
            " |-- App: string (nullable = true)\n",
            " |-- Category: string (nullable = true)\n",
            " |-- Rating: double (nullable = true)\n",
            " |-- Reviews: integer (nullable = true)\n",
            " |-- Installs: integer (nullable = true)\n",
            " |-- Type: string (nullable = true)\n",
            " |-- Price: integer (nullable = true)\n",
            " |-- Genres: string (nullable = true)\n",
            "\n"
          ]
        }
      ]
    },
    {
      "cell_type": "code",
      "source": [
        "df.createOrReplaceTempView(\"apps\")"
      ],
      "metadata": {
        "id": "b9wbhy8IlIjY"
      },
      "execution_count": 27,
      "outputs": []
    },
    {
      "cell_type": "code",
      "source": [
        "%load_ext sql\n"
      ],
      "metadata": {
        "id": "KJ7UGa94nyCl"
      },
      "execution_count": 25,
      "outputs": []
    },
    {
      "cell_type": "code",
      "source": [
        "spark.sql(\"select * from apps limit 5\").show()"
      ],
      "metadata": {
        "colab": {
          "base_uri": "https://localhost:8080/"
        },
        "id": "Z_nCcSkQqC81",
        "outputId": "58c686ad-5b87-4d13-c9a7-077dbd819484"
      },
      "execution_count": 31,
      "outputs": [
        {
          "output_type": "stream",
          "name": "stdout",
          "text": [
            "+--------------------+--------------+------+-------+--------+----+-----+--------------------+\n",
            "|                 App|      Category|Rating|Reviews|Installs|Type|Price|              Genres|\n",
            "+--------------------+--------------+------+-------+--------+----+-----+--------------------+\n",
            "|Photo Editor & Ca...|ART_AND_DESIGN|   4.1|    159|   10000|Free|    0|        Art & Design|\n",
            "| Coloring book moana|ART_AND_DESIGN|   3.9|    967|  500000|Free|    0|Art & Design;Pret...|\n",
            "|U Launcher Lite –...|ART_AND_DESIGN|   4.7|  87510| 5000000|Free|    0|        Art & Design|\n",
            "|Sketch - Draw & P...|ART_AND_DESIGN|   4.5| 215644|50000000|Free|    0|        Art & Design|\n",
            "|Pixel Draw - Numb...|ART_AND_DESIGN|   4.3|    967|  100000|Free|    0|Art & Design;Crea...|\n",
            "+--------------------+--------------+------+-------+--------+----+-----+--------------------+\n",
            "\n"
          ]
        }
      ]
    },
    {
      "cell_type": "code",
      "source": [
        "spark.sql(\"select App, Sum(Reviews) from apps group by 1 order by 2 desc limit 10\").show()"
      ],
      "metadata": {
        "colab": {
          "base_uri": "https://localhost:8080/"
        },
        "id": "Z_j7wpvVlIdZ",
        "outputId": "e08189b5-fe72-4172-aa17-20ae15d68daf"
      },
      "execution_count": 36,
      "outputs": [
        {
          "output_type": "stream",
          "name": "stdout",
          "text": [
            "+--------------------+------------+\n",
            "|                 App|sum(Reviews)|\n",
            "+--------------------+------------+\n",
            "|           Instagram|   266241989|\n",
            "|  WhatsApp Messenger|   207348304|\n",
            "|      Clash of Clans|   179558781|\n",
            "|Messenger – Text ...|   169932272|\n",
            "|      Subway Surfers|   166331958|\n",
            "|    Candy Crush Saga|   156993136|\n",
            "|            Facebook|   156286514|\n",
            "|         8 Ball Pool|    99386198|\n",
            "|        Clash Royale|    92530298|\n",
            "|            Snapchat|    68045010|\n",
            "+--------------------+------------+\n",
            "\n"
          ]
        }
      ]
    },
    {
      "cell_type": "code",
      "source": [
        "spark.sql(\"select app, sum(Installs) from apps group by 1 order by 2 desc limit 10\").show()"
      ],
      "metadata": {
        "colab": {
          "base_uri": "https://localhost:8080/"
        },
        "id": "GwipEpSzlIaU",
        "outputId": "a3f775a6-0afe-426a-bc82-60d963df1f50"
      },
      "execution_count": 35,
      "outputs": [
        {
          "output_type": "stream",
          "name": "stdout",
          "text": [
            "+--------------------+-------------+\n",
            "|                 app|sum(Installs)|\n",
            "+--------------------+-------------+\n",
            "|      Subway Surfers|   6000000000|\n",
            "|           Instagram|   4000000000|\n",
            "|            Hangouts|   4000000000|\n",
            "|        Google Drive|   4000000000|\n",
            "|         Google News|   4000000000|\n",
            "|       Google Photos|   4000000000|\n",
            "|    Candy Crush Saga|   3500000000|\n",
            "|Messenger – Text ...|   3000000000|\n",
            "|  WhatsApp Messenger|   3000000000|\n",
            "|Google Chrome: Fa...|   3000000000|\n",
            "+--------------------+-------------+\n",
            "\n"
          ]
        }
      ]
    },
    {
      "cell_type": "code",
      "source": [
        "spark.sql(\"select app, type, sum(Installs) from apps group by 1,2 order by 3 desc limit 10\").show()"
      ],
      "metadata": {
        "colab": {
          "base_uri": "https://localhost:8080/"
        },
        "id": "fGyNNY-pqtQ3",
        "outputId": "592f1b8e-cd67-498f-9c3a-e047791413a0"
      },
      "execution_count": 38,
      "outputs": [
        {
          "output_type": "stream",
          "name": "stdout",
          "text": [
            "+------------------+----+-------------+\n",
            "|               app|type|sum(Installs)|\n",
            "+------------------+----+-------------+\n",
            "|    Subway Surfers|Free|   6000000000|\n",
            "|         Instagram|Free|   4000000000|\n",
            "|      Google Drive|Free|   4000000000|\n",
            "|          Hangouts|Free|   4000000000|\n",
            "|     Google Photos|Free|   4000000000|\n",
            "|       Google News|Free|   4000000000|\n",
            "|  Candy Crush Saga|Free|   3500000000|\n",
            "|WhatsApp Messenger|Free|   3000000000|\n",
            "|             Gmail|Free|   3000000000|\n",
            "|      Temple Run 2|Free|   3000000000|\n",
            "+------------------+----+-------------+\n",
            "\n"
          ]
        }
      ]
    },
    {
      "cell_type": "code",
      "source": [
        "spark.sql(\"select Category, Sum(Installs) from apps group by 1 order by 2 desc limit 10\").show()"
      ],
      "metadata": {
        "colab": {
          "base_uri": "https://localhost:8080/"
        },
        "id": "hN88z1JBq-xS",
        "outputId": "a3b52d09-8087-48f0-dc5f-41d13285a4d0"
      },
      "execution_count": 39,
      "outputs": [
        {
          "output_type": "stream",
          "name": "stdout",
          "text": [
            "+------------------+-------------+\n",
            "|          Category|sum(Installs)|\n",
            "+------------------+-------------+\n",
            "|              GAME|  35086024415|\n",
            "|     COMMUNICATION|  32647276251|\n",
            "|      PRODUCTIVITY|  14176091369|\n",
            "|            SOCIAL|  14069867902|\n",
            "|             TOOLS|  11452771915|\n",
            "|            FAMILY|  10258263505|\n",
            "|       PHOTOGRAPHY|  10088247655|\n",
            "|NEWS_AND_MAGAZINES|   7496317760|\n",
            "|  TRAVEL_AND_LOCAL|   6868887146|\n",
            "|     VIDEO_PLAYERS|   6222002720|\n",
            "+------------------+-------------+\n",
            "\n"
          ]
        }
      ]
    },
    {
      "cell_type": "code",
      "source": [
        "spark.sql(\"select App, Sum(Price) from apps where Type='Paid' group by 1 order by 2 desc \").show()"
      ],
      "metadata": {
        "colab": {
          "base_uri": "https://localhost:8080/"
        },
        "id": "dBoKt1w5rKZ6",
        "outputId": "f79097f9-8536-4fa1-defd-74083423ea3d"
      },
      "execution_count": 42,
      "outputs": [
        {
          "output_type": "stream",
          "name": "stdout",
          "text": [
            "+--------------------+----------+\n",
            "|                 App|sum(Price)|\n",
            "+--------------------+----------+\n",
            "|I'm Rich - Trump ...|       400|\n",
            "|         💎 I'm rich|       399|\n",
            "|I am rich (Most e...|       399|\n",
            "|  I am rich(premium)|       399|\n",
            "|          I am Rich!|       399|\n",
            "|           I am Rich|       399|\n",
            "|   I Am Rich Premium|       399|\n",
            "|most expensive ap...|       399|\n",
            "|           I am rich|       399|\n",
            "|      I am Rich Plus|       399|\n",
            "|I'm Rich/Eu sou R...|       399|\n",
            "|       I Am Rich Pro|       399|\n",
            "|  I AM RICH PRO PLUS|       399|\n",
            "|         Eu Sou Rico|       394|\n",
            "|           I Am Rich|       389|\n",
            "| I am extremely Rich|       379|\n",
            "|       I am rich VIP|       299|\n",
            "|        EP Cook Book|       200|\n",
            "|Vargo Anesthesia ...|       158|\n",
            "|       cronometra-br|       154|\n",
            "+--------------------+----------+\n",
            "only showing top 20 rows\n",
            "\n"
          ]
        }
      ]
    },
    {
      "cell_type": "code",
      "source": [],
      "metadata": {
        "id": "fKqmpT6erYUx"
      },
      "execution_count": null,
      "outputs": []
    }
  ]
}